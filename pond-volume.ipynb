{
 "cells": [
  {
   "cell_type": "markdown",
   "metadata": {},
   "source": [
    "# Calculate the water volume on the pond"
   ]
  },
  {
   "cell_type": "code",
   "execution_count": 1,
   "metadata": {},
   "outputs": [],
   "source": [
    "%matplotlib widget\n",
    "import numpy as np\n",
    "import cv2\n",
    "from scipy.interpolate import griddata\n",
    "import matplotlib.pyplot as plt\n",
    "from mpl_toolkits.mplot3d import Axes3D\n",
    "import mpl_toolkits.mplot3d.art3d as art3d"
   ]
  },
  {
   "cell_type": "code",
   "execution_count": 2,
   "metadata": {},
   "outputs": [
    {
     "data": {
      "application/vnd.jupyter.widget-view+json": {
       "model_id": "ea056308dc264baeb82dd6d6c25d47e1",
       "version_major": 2,
       "version_minor": 0
      },
      "text/plain": [
       "Canvas(toolbar=Toolbar(toolitems=[('Home', 'Reset original view', 'home', 'home'), ('Back', 'Back to previous …"
      ]
     },
     "metadata": {},
     "output_type": "display_data"
    }
   ],
   "source": [
    "# read the image, location of measurement points marked in gimp\n",
    "img = cv2.imread('./gmap-points.png')[:,:,::-1]\n",
    "plt.figure(figsize=(6,6))\n",
    "plt.imshow(img)\n",
    "plt.tight_layout()"
   ]
  },
  {
   "cell_type": "code",
   "execution_count": 3,
   "metadata": {},
   "outputs": [],
   "source": [
    "height = img.shape[0]\n",
    "width = img.shape[1]"
   ]
  },
  {
   "cell_type": "code",
   "execution_count": 4,
   "metadata": {},
   "outputs": [],
   "source": [
    "def exact_color_mask(img, color):\n",
    "    \"\"\"Return a mask when img matches the exact color given.\"\"\"\n",
    "    mask = np.zeros((img.shape[0], img.shape[1]), np.bool)\n",
    "    for i in range(img.shape[0]):\n",
    "        for j in range(img.shape[1]):\n",
    "            pixel = img[i,j]\n",
    "            if (pixel == color).all():\n",
    "                mask[i,j] = True\n",
    "    return mask.astype(int)\n",
    "\n",
    "def exact_color_mask_fast(img, color):\n",
    "    \"\"\"Return a mask when img matches the exact color given.\"\"\"\n",
    "    return np.all(np.equal(img[:,:], color),axis=2).astype(np.uint8)\n",
    "\n",
    "# red = exact_color_mask(img, (255, 0, 0))\n",
    "# blue = exact_color(img, (0, 0, 255))\n",
    "red = exact_color_mask_fast(img, (255, 0, 0))\n",
    "blue = exact_color_mask_fast(img, (0, 0, 255))"
   ]
  },
  {
   "cell_type": "code",
   "execution_count": 5,
   "metadata": {},
   "outputs": [
    {
     "data": {
      "application/vnd.jupyter.widget-view+json": {
       "model_id": "66653b25c7864f60af2a601a01cb060b",
       "version_major": 2,
       "version_minor": 0
      },
      "text/plain": [
       "Canvas(toolbar=Toolbar(toolitems=[('Home', 'Reset original view', 'home', 'home'), ('Back', 'Back to previous …"
      ]
     },
     "metadata": {},
     "output_type": "display_data"
    },
    {
     "data": {
      "text/plain": [
       "<matplotlib.image.AxesImage at 0x7fc3ecf4a6a0>"
      ]
     },
     "execution_count": 5,
     "metadata": {},
     "output_type": "execute_result"
    }
   ],
   "source": [
    "plt.figure()\n",
    "plt.subplot(121)\n",
    "plt.imshow(blue,'gray')\n",
    "plt.subplot(122)\n",
    "plt.imshow(red,'gray')"
   ]
  },
  {
   "cell_type": "code",
   "execution_count": 6,
   "metadata": {},
   "outputs": [],
   "source": [
    "def find_center_of_contour(contour):\n",
    "        M = cv2.moments(contour)\n",
    "        cX = int(M[\"m10\"] / M[\"m00\"])\n",
    "        cY = int(M[\"m01\"] / M[\"m00\"])\n",
    "        return cX, cY\n",
    "    \n",
    "def find_color_dot_coords(image):\n",
    "    \"\"\"Returns a list of (y,x) pairs of dots of color found in image\"\"\"\n",
    "    contours, hierarchy = cv2.findContours(image, cv2.RETR_TREE, cv2.CHAIN_APPROX_SIMPLE)\n",
    "    return [find_center_of_contour(c) for c in contours]    "
   ]
  },
  {
   "cell_type": "code",
   "execution_count": 7,
   "metadata": {},
   "outputs": [
    {
     "data": {
      "text/plain": [
       "[(1403, 2995),\n",
       " (1039, 2987),\n",
       " (1695, 2927),\n",
       " (1407, 2695),\n",
       " (1120, 2696),\n",
       " (1699, 2635),\n",
       " (940, 2575),\n",
       " (1112, 2438),\n",
       " (1442, 2360),\n",
       " (1863, 2303),\n",
       " (939, 2059),\n",
       " (1123, 2023),\n",
       " (1839, 2015),\n",
       " (1283, 1995),\n",
       " (1475, 1983),\n",
       " (914, 1727),\n",
       " (1170, 1712),\n",
       " (1915, 1707),\n",
       " (1583, 1547),\n",
       " (1387, 1547),\n",
       " (1979, 1403),\n",
       " (1815, 1307),\n",
       " (895, 1303),\n",
       " (1507, 1099),\n",
       " (1311, 999)]"
      ]
     },
     "execution_count": 7,
     "metadata": {},
     "output_type": "execute_result"
    }
   ],
   "source": [
    "blue_points = find_color_dot_coords(blue)\n",
    "red_points = find_color_dot_coords(red)\n",
    "red_points"
   ]
  },
  {
   "cell_type": "code",
   "execution_count": 8,
   "metadata": {},
   "outputs": [],
   "source": [
    "# blue points + 0 (ground level)\n",
    "ground_level = [(x, y, 0) for x,y in blue_points]\n",
    "\n",
    "# red_points\n",
    "# x,y copy pasted from red_points\n",
    "# depth typed in by hand\n",
    "measurements = [ (1403, 2995, 100),\n",
    "                 (1039, 2987, 90),\n",
    "                 (1695, 2927, 100),\n",
    "                 (1407, 2695, 130),\n",
    "                 (1120, 2696, 130),\n",
    "                 (1699, 2635, 130),\n",
    "                 (940, 2575, 120),\n",
    "                 (1112, 2438, 140),\n",
    "                 (1442, 2360, 160),\n",
    "                 (1863, 2303, 150),\n",
    "                 (939, 2059, 150),\n",
    "                 (1123, 2023, 190),\n",
    "                 (1839, 2015, 180),\n",
    "                 (1283, 1995, 200),\n",
    "                 (1475, 1983, 220),\n",
    "                 (914, 1727, 150),\n",
    "                 (1170, 1712, 200),\n",
    "                 (1915, 1707, 230),\n",
    "                 (1583, 1547, 240),\n",
    "                 (1387, 1547, 230),\n",
    "                 (1979, 1403, 150),\n",
    "                 (1815, 1307, 180),\n",
    "                 (895, 1303, 150),\n",
    "                 (1507, 1099, 210),\n",
    "                 (1311, 999, 190)]\n",
    "\n",
    "points = np.array(ground_level + measurements, dtype=float)\n",
    "\n",
    "# pixels to meters\n",
    "points /= 100  \n",
    "height = img.shape[0] / 100\n",
    "width = img.shape[1] / 100\n",
    "measurements = np.array(measurements, dtype=float) / 100"
   ]
  },
  {
   "cell_type": "code",
   "execution_count": 9,
   "metadata": {},
   "outputs": [],
   "source": [
    "res = 4\n",
    "grid_x, grid_y = np.mgrid[0:width:width*res*1j, 0:height:height*res*1j]"
   ]
  },
  {
   "cell_type": "code",
   "execution_count": 10,
   "metadata": {},
   "outputs": [],
   "source": [
    "method = 'cubic'\n",
    "grid_z = griddata(points[:,:2], points[:,2], (grid_x, grid_y), method=method)\n",
    "grid_z = np.nan_to_num(grid_z).clip(min=0)"
   ]
  },
  {
   "cell_type": "code",
   "execution_count": 11,
   "metadata": {},
   "outputs": [
    {
     "data": {
      "text/plain": [
       "(29.0, 38.0, 4)"
      ]
     },
     "execution_count": 11,
     "metadata": {},
     "output_type": "execute_result"
    }
   ],
   "source": [
    "width, height, res"
   ]
  },
  {
   "cell_type": "code",
   "execution_count": 12,
   "metadata": {},
   "outputs": [
    {
     "data": {
      "application/vnd.jupyter.widget-view+json": {
       "model_id": "78f53d0ab26941a492e657da4aafbbd4",
       "version_major": 2,
       "version_minor": 0
      },
      "text/plain": [
       "Canvas(toolbar=Toolbar(toolitems=[('Home', 'Reset original view', 'home', 'home'), ('Back', 'Back to previous …"
      ]
     },
     "metadata": {},
     "output_type": "display_data"
    }
   ],
   "source": [
    "plt.figure(figsize=(6,6))\n",
    "plt.imshow(-grid_z.T, cmap='winter')\n",
    "plt.colorbar();"
   ]
  },
  {
   "cell_type": "code",
   "execution_count": 13,
   "metadata": {},
   "outputs": [
    {
     "data": {
      "application/vnd.jupyter.widget-view+json": {
       "model_id": "0861df1d2f2143659592bd4712df60b3",
       "version_major": 2,
       "version_minor": 0
      },
      "text/plain": [
       "Canvas(toolbar=Toolbar(toolitems=[('Home', 'Reset original view', 'home', 'home'), ('Back', 'Back to previous …"
      ]
     },
     "metadata": {},
     "output_type": "display_data"
    }
   ],
   "source": [
    "fig = plt.figure(figsize=(8,8))\n",
    "ax = fig.gca(projection='3d')\n",
    "ax.scatter(grid_x.reshape(-1), -grid_y.reshape(-1), -grid_z.reshape(-1), c=-grid_z.reshape(-1), marker='.', cmap='winter')\n",
    "for xi, yi, zi in zip(measurements[:,0], -measurements[:,1], -measurements[:,2]):        \n",
    "    line=art3d.Line3D(*zip((xi, yi, 0), (xi, yi, zi)), c='r', marker='o', markevery=(1, 1))\n",
    "    ax.add_line(line)\n",
    "ax.auto_scale_xyz([0, 40], [-40, 0], [-10, 10])\n"
   ]
  },
  {
   "cell_type": "code",
   "execution_count": 14,
   "metadata": {},
   "outputs": [
    {
     "name": "stdout",
     "output_type": "stream",
     "text": [
      "Water volume = 449m^3.\n",
      "Interpolated at 0.25m step grid\n"
     ]
    }
   ],
   "source": [
    "volume = np.sum(grid_z)/res**2\n",
    "print(f\"Water volume = {volume:.0f}m^3.\")\n",
    "print(f\"Interpolated at {1/res}m step grid\")"
   ]
  },
  {
   "cell_type": "markdown",
   "metadata": {},
   "source": [
    "# Pond Area"
   ]
  },
  {
   "cell_type": "code",
   "execution_count": 15,
   "metadata": {},
   "outputs": [
    {
     "data": {
      "application/vnd.jupyter.widget-view+json": {
       "model_id": "9de634fb03a24f069c31946074dd61f0",
       "version_major": 2,
       "version_minor": 0
      },
      "text/plain": [
       "Canvas(toolbar=Toolbar(toolitems=[('Home', 'Reset original view', 'home', 'home'), ('Back', 'Back to previous …"
      ]
     },
     "metadata": {},
     "output_type": "display_data"
    }
   ],
   "source": [
    "# read in image, area painted in gimp\n",
    "img = cv2.imread('./gmap-area.png')[:,:,::-1]\n",
    "plt.figure(figsize=(6,6))\n",
    "plt.imshow(img)\n",
    "plt.tight_layout()"
   ]
  },
  {
   "cell_type": "code",
   "execution_count": 16,
   "metadata": {},
   "outputs": [
    {
     "name": "stdout",
     "output_type": "stream",
     "text": [
      "CPU times: user 249 ms, sys: 5.67 ms, total: 254 ms\n",
      "Wall time: 254 ms\n"
     ]
    }
   ],
   "source": [
    "%%time\n",
    "# TODO: optimize this cell, too slow\n",
    "height = img.shape[0]\n",
    "width = img.shape[1]\n",
    "red = exact_color_mask_fast(img, (255, 0, 0))"
   ]
  },
  {
   "cell_type": "code",
   "execution_count": 17,
   "metadata": {},
   "outputs": [
    {
     "name": "stdout",
     "output_type": "stream",
     "text": [
      "Water area = 372m^2\n",
      "Average depth = 1.2m\n"
     ]
    }
   ],
   "source": [
    "area = np.sum(red) / 100 / 100\n",
    "print(f\"Water area = {area:.0f}m^2\")\n",
    "print(f\"Average depth = {volume/area:.1f}m\")"
   ]
  },
  {
   "cell_type": "code",
   "execution_count": null,
   "metadata": {},
   "outputs": [],
   "source": []
  }
 ],
 "metadata": {
  "kernelspec": {
   "display_name": "Python 3",
   "language": "python",
   "name": "python3"
  },
  "language_info": {
   "codemirror_mode": {
    "name": "ipython",
    "version": 3
   },
   "file_extension": ".py",
   "mimetype": "text/x-python",
   "name": "python",
   "nbconvert_exporter": "python",
   "pygments_lexer": "ipython3",
   "version": "3.8.5"
  }
 },
 "nbformat": 4,
 "nbformat_minor": 4
}
